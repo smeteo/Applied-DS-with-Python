{
 "cells": [
  {
   "cell_type": "markdown",
   "id": "c21f98c5-b7df-46f7-8f5b-b23ae2261fba",
   "metadata": {},
   "source": [
    "# Ann Arbor Michigan United States Weather Phenomena"
   ]
  },
  {
   "cell_type": "code",
   "execution_count": 1,
   "id": "fb82819c-d757-4262-9427-15c6c4061273",
   "metadata": {},
   "outputs": [],
   "source": [
    "import requests\n",
    "from bs4 import BeautifulSoup"
   ]
  },
  {
   "cell_type": "code",
   "execution_count": null,
   "id": "d3242712-f48d-4ce4-834b-019f0a424bb7",
   "metadata": {},
   "outputs": [],
   "source": [
    "base_site = 'https://editorial.rottentomatoes.com/guide/140-essential-action-movies-to-watch-now/'"
   ]
  }
 ],
 "metadata": {
  "kernelspec": {
   "display_name": "Python 3 (ipykernel)",
   "language": "python",
   "name": "python3"
  },
  "language_info": {
   "codemirror_mode": {
    "name": "ipython",
    "version": 3
   },
   "file_extension": ".py",
   "mimetype": "text/x-python",
   "name": "python",
   "nbconvert_exporter": "python",
   "pygments_lexer": "ipython3",
   "version": "3.9.7"
  }
 },
 "nbformat": 4,
 "nbformat_minor": 5
}
